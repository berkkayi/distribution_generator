{
 "cells": [
  {
   "cell_type": "code",
   "execution_count": 82,
   "outputs": [],
   "source": [
    "df = np.array(\n",
    "    [5, 6, 3, 41, 5, 6, 22, 5, 5, 5, 7, 165, 51, 24, 8, 561, 658, 6, 16, 25, 69, 89, 21, 56, 32, 65, 78, 54, 23, 69, 12,\n",
    "     65, 87, 99, 69, 111] )\n",
    "list_of_dists = ['alpha', 'anglit', 'arcsine', 'beta', 'betaprime',\n",
    "                 'bradford', 'burr', 'burr12', 'cauchy', 'chi', 'chi2',\n",
    "                 'cosine', 'dgamma', 'dweibull', 'erlang', 'expon', 'exponnorm',\n",
    "                 'exponweib', 'exponpow', 'f', 'fatiguelife', 'fisk', 'foldcauchy',\n",
    "                 'foldnorm', 'frechet_r', 'frechet_l', 'genlogistic', 'genpareto',\n",
    "                 'gennorm', 'genexpon', 'genextreme', 'gausshyper', 'gamma', 'gengamma',\n",
    "                 'genhalflogistic', 'gilbrat', 'gompertz', 'gumbel_r', 'gumbel_l', 'halfcauchy',\n",
    "                 'halflogistic', 'halfnorm', 'halfgennorm', 'hypsecant', 'invgamma', 'invgauss',\n",
    "                 'invweibull', 'johnsonsb', 'johnsonsu', 'kstwobign', 'laplace', 'levy', 'levy_l', 'logistic',\n",
    "                 'loggamma', 'loglaplace', 'lognorm', 'lomax', 'maxwell', 'mielke', 'nakagami', 'ncx2', 'ncf',\n",
    "                 'nct', 'norm', 'pareto', 'pearson3', 'powerlaw', 'powerlognorm', 'powernorm', 'rdist', 'reciprocal',\n",
    "                 'rayleigh', 'rice', 'recipinvgauss', 'semicircular', 't', 'triang', 'truncexpon', 'truncnorm',\n",
    "                 'tukeylambda',\n",
    "                 'uniform', 'vonmises', 'vonmises_line', 'wald', 'weibull_min', 'weibull_max']"
   ],
   "metadata": {
    "collapsed": false,
    "pycharm": {
     "name": "#%%\n"
    }
   }
  },
  {
   "cell_type": "code",
   "execution_count": 83,
   "outputs": [
    {
     "name": "stdout",
     "output_type": "stream",
     "text": [
      "burr12: statistic=0.10645309733394362, pvalue=0.7699738456633212\n",
      "powerlognorm: statistic=0.11470684029672973, pvalue=0.6881150613995994\n",
      "fatiguelife: statistic=0.11472840669426143, pvalue=0.6878965916501176\n",
      "johnsonsb: statistic=0.11492730569228782, pvalue=0.6858811351970429\n",
      "ncf: statistic=0.11632184081494745, pvalue=0.6717251725127692\n",
      "fisk: statistic=0.11684284387466382, pvalue=0.6664280060701211\n",
      "exponweib: statistic=0.11698380235243433, pvalue=0.6649943061977047\n",
      "mielke: statistic=0.11957782048784593, pvalue=0.6385981317320187\n",
      "frechet_r: statistic=0.12098022883421956, pvalue=0.6243456292273373\n",
      "weibull_min: statistic=0.12098022883421956, pvalue=0.6243456292273373\n",
      "gengamma: statistic=0.1220751798334835, pvalue=0.6132424339167554\n",
      "recipinvgauss: statistic=0.12364874713606801, pvalue=0.5973418720711057\n",
      "pearson3: statistic=0.13007769538750547, pvalue=0.5335050121714201\n",
      "lognorm: statistic=0.13232751860209002, pvalue=0.5117566504512768\n",
      "loglaplace: statistic=0.13799215525678188, pvalue=0.4587832258182182\n",
      "genpareto: statistic=0.13833480558728029, pvalue=0.4556699175327995\n",
      "burr: statistic=0.14074535541018962, pvalue=0.43408615920120175\n",
      "levy: statistic=0.14099805091041018, pvalue=0.43185660538598647\n",
      "invweibull: statistic=0.1502038357928397, pvalue=0.35520600702843197\n",
      "pareto: statistic=0.15029395287446, pvalue=0.3545013209369323\n",
      "--------------------------------------\n",
      "\n",
      "best distirbution :burr12\n",
      "parameters result is (*hyperparameters...,mean,std) \n",
      "best distirbution params : (0.7788415737022044, 2.2720635757161958, -0.5140181200241009, 0.6639109463311279)\n",
      "--------------------------------------\n",
      "\n",
      "random dataset :\n",
      "--------------------------------------\n",
      "\n",
      "[  3.50862709   6.16649683  16.08572053  20.04688366  74.56333554\n",
      " 136.15773439  81.19364971   8.77786507 153.61849812  12.04105011]\n"
     ]
    }
   ],
   "source": [
    "from dist_fit import distirbution_generator\n",
    "print(distirbution_generator( df, 10, list_of_dists, verbose=True, print_limit=20,int_type=False ))\n"
   ],
   "metadata": {
    "collapsed": false,
    "pycharm": {
     "name": "#%%\n"
    }
   }
  },
  {
   "cell_type": "code",
   "execution_count": 84,
   "outputs": [
    {
     "name": "stdout",
     "output_type": "stream",
     "text": [
      "burr12: statistic=0.10645309733394362, pvalue=0.7699738456633212\n",
      "powerlognorm: statistic=0.11470684029672973, pvalue=0.6881150613995994\n",
      "fatiguelife: statistic=0.11472840669426143, pvalue=0.6878965916501176\n",
      "johnsonsb: statistic=0.11492730569228782, pvalue=0.6858811351970429\n",
      "ncf: statistic=0.11632184081494745, pvalue=0.6717251725127692\n",
      "--------------------------------------\n",
      "\n",
      "best distirbution :burr12\n",
      "parameters result is (*hyperparameters...,mean,std) \n",
      "best distirbution params : (0.7788415737022044, 2.2720635757161958, -0.5140181200241009, 0.6639109463311279)\n",
      "--------------------------------------\n",
      "\n",
      "random dataset :\n",
      "--------------------------------------\n",
      "\n",
      "[ 16.40723667  11.19085864   4.22097121 211.25264325  42.66987006\n",
      "   8.16663445  10.03549672  10.95724972 127.26983942 104.04829492]\n"
     ]
    }
   ],
   "source": [
    "print(distirbution_generator( df, 10, list_of_dists, verbose=True, print_limit=5,int_type=False ))"
   ],
   "metadata": {
    "collapsed": false,
    "pycharm": {
     "name": "#%%\n"
    }
   }
  },
  {
   "cell_type": "code",
   "execution_count": 85,
   "outputs": [
    {
     "name": "stdout",
     "output_type": "stream",
     "text": [
      "burr12: statistic=0.10645309733394362, pvalue=0.7699738456633212\n",
      "powerlognorm: statistic=0.11470684029672973, pvalue=0.6881150613995994\n",
      "fatiguelife: statistic=0.11472840669426143, pvalue=0.6878965916501176\n",
      "johnsonsb: statistic=0.11492730569228782, pvalue=0.6858811351970429\n",
      "ncf: statistic=0.11632184081494745, pvalue=0.6717251725127692\n",
      "--------------------------------------\n",
      "\n",
      "best distirbution :burr12\n",
      "parameters result is (*hyperparameters...,mean,std) \n",
      "best distirbution params : (0.7788415737022044, 2.2720635757161958, -0.5140181200241009, 0.6639109463311279)\n",
      "--------------------------------------\n",
      "\n",
      "random dataset :\n",
      "--------------------------------------\n",
      "\n",
      "[  4  71   4 206 947   4   4  57 155 170]\n"
     ]
    }
   ],
   "source": [
    "print(distirbution_generator( df, 10, list_of_dists, verbose=True, print_limit=5,int_type=True ))"
   ],
   "metadata": {
    "collapsed": false,
    "pycharm": {
     "name": "#%%\n"
    }
   }
  },
  {
   "cell_type": "code",
   "execution_count": 86,
   "outputs": [
    {
     "name": "stdout",
     "output_type": "stream",
     "text": [
      "[240.51836674   3.22305511   6.13555611   7.33716828  58.84506524\n",
      "   9.91199977  12.11522319  11.07237615  81.02755455  38.34545268]\n"
     ]
    }
   ],
   "source": [
    "print(distirbution_generator( df, 10, list_of_dists, verbose=False, print_limit=20,int_type=False ))"
   ],
   "metadata": {
    "collapsed": false,
    "pycharm": {
     "name": "#%%\n"
    }
   }
  },
  {
   "cell_type": "code",
   "execution_count": 87,
   "outputs": [
    {
     "name": "stdout",
     "output_type": "stream",
     "text": [
      "[213.55657523   4.83245836  29.97837801   4.36851011   5.71179878\n",
      "   7.5471157   17.26420779  28.94404021 188.93938342  27.44614767\n",
      "  11.65206599 159.83254623  26.65496205  74.58881734   5.74792188\n",
      "  54.29266275 172.3202374    7.27952791  26.45725075  13.25783264\n",
      " 100.56521748  27.01656487 431.35105407  55.24973304  51.53220373\n",
      "  15.51836606  33.96919509  89.46430438 646.7710642   94.30861463]\n"
     ]
    }
   ],
   "source": [
    "print(distirbution_generator( df, 30, list_of_dists ))"
   ],
   "metadata": {
    "collapsed": false,
    "pycharm": {
     "name": "#%%\n"
    }
   }
  },
  {
   "cell_type": "code",
   "execution_count": null,
   "outputs": [],
   "source": [],
   "metadata": {
    "collapsed": false,
    "pycharm": {
     "name": "#%%\n"
    }
   }
  }
 ],
 "metadata": {
  "kernelspec": {
   "display_name": "Python 3",
   "language": "python",
   "name": "python3"
  },
  "language_info": {
   "codemirror_mode": {
    "name": "ipython",
    "version": 2
   },
   "file_extension": ".py",
   "mimetype": "text/x-python",
   "name": "python",
   "nbconvert_exporter": "python",
   "pygments_lexer": "ipython2",
   "version": "2.7.6"
  }
 },
 "nbformat": 4,
 "nbformat_minor": 0
}